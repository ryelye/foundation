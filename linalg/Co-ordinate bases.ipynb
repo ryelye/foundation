{
 "cells": [
  {
   "cell_type": "code",
   "execution_count": 110,
   "metadata": {
    "collapsed": true
   },
   "outputs": [],
   "source": [
    "import sympy as sp\n",
    "import numpy as np\n",
    "import pandas as pd\n",
    "import matplotlib.pyplot as plt\n",
    "import numpy.linalg as lin\n",
    "import copy\n",
    "%matplotlib inline"
   ]
  },
  {
   "cell_type": "markdown",
   "metadata": {},
   "source": [
    "### Projection of x onto the subspace V (Proj v X)\n",
    "##### proj(V) x = A(A^T.A)^-1.A^T.x"
   ]
  },
  {
   "cell_type": "code",
   "execution_count": 3,
   "metadata": {
    "collapsed": true
   },
   "outputs": [],
   "source": [
    "# define V and x\n",
    "x_multiplier = np.arange(-20, 20)\n",
    "V = np.array([2, 1])\n",
    "x = np.array([2, 3])"
   ]
  },
  {
   "cell_type": "code",
   "execution_count": 4,
   "metadata": {
    "collapsed": false
   },
   "outputs": [
    {
     "name": "stdout",
     "output_type": "stream",
     "text": [
      "(0, 0, 0) (0, 0, 0) (3, 1, 9) (2, 1, 9)\n"
     ]
    }
   ],
   "source": [
    "soa =np.array( [ [0,0,3,2], [0,0,1,1],[0,0,9,9]])\n",
    "a,b,c,d=zip(*soa)\n",
    "print(a,b,c,d)"
   ]
  },
  {
   "cell_type": "code",
   "execution_count": 5,
   "metadata": {
    "collapsed": false
   },
   "outputs": [
    {
     "data": {
      "image/png": "[encoded data removed]",
      "text/plain": [
       "<matplotlib.figure.Figure at 0x23dc6b299e8>"
      ]
     },
     "metadata": {},
     "output_type": "display_data"
    }
   ],
   "source": [
    "# visualize V and x\n",
    "fig, ax = plt.subplots()\n",
    "ax.plot(x[0]*x_multiplier, x[1]*x_multiplier, 'r-', V[0]*x_multiplier, V[1]*x_multiplier)\n",
    "ax.set_xlim((0, 10))\n",
    "ax.set_ylim((0, 10))\n",
    "plt.show()"
   ]
  },
  {
   "cell_type": "markdown",
   "metadata": {},
   "source": [
    "C[d]B - [d]\n",
    "C = [[v1, v2, v3...]]\n",
    "[d]B = co-ordinates [[w1, w2, w3...]]\n",
    "[d] = vector d\n",
    "basically Ax = b"
   ]
  },
  {
   "cell_type": "markdown",
   "metadata": {},
   "source": [
    "## Alternate Co-ordinate systems"
   ]
  },
  {
   "cell_type": "code",
   "execution_count": 44,
   "metadata": {
    "collapsed": true
   },
   "outputs": [],
   "source": [
    "l = np.array([1, 2])\n",
    "v1 = np.array([1, 2])\n",
    "v2 = np.array([2, -1])\n",
    "l_range = np.arange(-4, 4)\n",
    "v1_range = np.arange(0, 3)\n",
    "v2_range = np.arange(0, 3)"
   ]
  },
  {
   "cell_type": "code",
   "execution_count": 87,
   "metadata": {
    "collapsed": false
   },
   "outputs": [
    {
     "data": {
      "image/png": "[encoded data removed]",
      "text/plain": [
       "<matplotlib.figure.Figure at 0x23dc76a7f60>"
      ]
     },
     "metadata": {},
     "output_type": "display_data"
    }
   ],
   "source": [
    "fig, ax = plt.subplots()\n",
    "ax.plot(l[0]*l_range, l[1]*l_range, 'b-', label='[1,2]', linewidth=3)\n",
    "ax.plot(v1[0]*v1_range, v1[1]*v1_range, 'y-', label='v1 [1,2]', linewidth=2)\n",
    "ax.plot(v2[0]*v2_range, v2[1]*v2_range, 'r-', label='v2 [2,-1]', linewidth=2)\n",
    "ax.spines['top'].set_position('zero')\n",
    "ax.spines['bottom'].set_position('zero')\n",
    "ax.spines['left'].set_position('zero')\n",
    "ax.spines['right'].set_position('zero')\n",
    "ax.set_xticks(np.arange(-10,10))\n",
    "ax.set_yticks(np.arange(-10,10))\n",
    "ax.legend(loc='upper left')\n",
    "ax.axis('equal')\n",
    "ax.set_xlim((-4, 4))\n",
    "ax.set_ylim((-4, 4))\n",
    "plt.grid()\n",
    "plt.show()"
   ]
  },
  {
   "cell_type": "code",
   "execution_count": 139,
   "metadata": {
    "collapsed": true
   },
   "outputs": [],
   "source": [
    "class transform_from_line(object):\n",
    "    '''\n",
    "    R2 Transformation around line using alternate bases\n",
    "    '''\n",
    "    # vector_in = [2, -1]\n",
    "    # vector_out = [-2, 1]\n",
    "    # line = [1, 2]\n",
    "    # C should be transformation_line and vector orthogonal to transformation line\n",
    "    def __init__(self, vector_in, transformation_line):\n",
    "        self.vector_in = vector_in\n",
    "        self.transformation_line = transformation_line\n",
    "        self.calculate_C()\n",
    "        self.calculate_D()\n",
    "    \n",
    "    def calculate_C(self):\n",
    "        self.orth_line = self.calculate_orthogonal(self.transformation_line)\n",
    "        self.C = np.matrix([self.transformation_line, self.orth_line])\n",
    "        \n",
    "    def calculate_D(self):\n",
    "        \n",
    "        \n",
    "    def calculate_orthogonal(self, np_array):\n",
    "        return np.array([np_array[1], -np_array[0]])"
   ]
  },
  {
   "cell_type": "code",
   "execution_count": 142,
   "metadata": {
    "collapsed": false
   },
   "outputs": [
    {
     "data": {
      "text/plain": [
       "matrix([[ 2,  1],\n",
       "        [ 1, -2]])"
      ]
     },
     "execution_count": 142,
     "metadata": {},
     "output_type": "execute_result"
    }
   ],
   "source": [
    "a=transform_from_line(np.array([1,1]), np.array([2,1]))\n",
    "a.C"
   ]
  },
  {
   "cell_type": "code",
   "execution_count": 103,
   "metadata": {
    "collapsed": false
   },
   "outputs": [
    {
     "data": {
      "text/plain": [
       "matrix([[ 0.4, -0.2]])"
      ]
     },
     "execution_count": 103,
     "metadata": {},
     "output_type": "execute_result"
    }
   ],
   "source": [
    "v2_2 = np.dot(D, np.array([0,1]))\n",
    "np.dot([0, 1], lin.inv(C))"
   ]
  },
  {
   "cell_type": "markdown",
   "metadata": {},
   "source": [
    "### Calculating A where $Ax = T(x)$ and D where $D[x]_B = [T(x)]_B$"
   ]
  },
  {
   "cell_type": "code",
   "execution_count": 104,
   "metadata": {
    "collapsed": false
   },
   "outputs": [],
   "source": [
    "# C is the basis for D\n",
    "C = np.matrix([[1,2],[2,-1]])\n",
    "reflect_line = np.array([1,2])\n",
    "v1_b = [1, 0]\n",
    "v2_b = [0, 1]\n",
    "v1_b_transform = [1, 0]\n",
    "v2_b_transform = [0, -1]\n",
    "# Calculate D\n",
    "D = np.matrix([v1_b_transform, v2_b_transform])"
   ]
  },
  {
   "cell_type": "code",
   "execution_count": 105,
   "metadata": {
    "collapsed": false,
    "scrolled": true
   },
   "outputs": [],
   "source": [
    "# A = CDC^-1\n",
    "A = np.dot(np.dot(C, D), lin.inv(C))"
   ]
  },
  {
   "cell_type": "code",
   "execution_count": 91,
   "metadata": {
    "collapsed": false
   },
   "outputs": [
    {
     "data": {
      "text/plain": [
       "matrix([[2, 0]])"
      ]
     },
     "execution_count": 91,
     "metadata": {},
     "output_type": "execute_result"
    }
   ],
   "source": [
    "np.dot(D, np.array([2, 0]))"
   ]
  },
  {
   "cell_type": "markdown",
   "metadata": {},
   "source": [
    "### Transforming $[T(x)]_B$ back to $T(x)$"
   ]
  },
  {
   "cell_type": "code",
   "execution_count": 107,
   "metadata": {
    "collapsed": false
   },
   "outputs": [],
   "source": [
    "# Transforming [T(a)] back to T(a)\n",
    "def transform_to_standard_basis(C, Tx_B):\n",
    "    return np.dot(Tx_B, lin.inv(C))"
   ]
  }
 ],
 "metadata": {
  "kernelspec": {
   "display_name": "Python [Root]",
   "language": "python",
   "name": "Python [Root]"
  },
  "language_info": {
   "codemirror_mode": {
    "name": "ipython",
    "version": 3
   },
   "file_extension": ".py",
   "mimetype": "text/x-python",
   "name": "python",
   "nbconvert_exporter": "python",
   "pygments_lexer": "ipython3",
   "version": "3.5.2"
  }
 },
 "nbformat": 4,
 "nbformat_minor": 0
}
