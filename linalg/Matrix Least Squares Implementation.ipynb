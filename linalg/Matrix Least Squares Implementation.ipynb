{
 "cells": [
  {
   "cell_type": "code",
   "execution_count": 1,
   "metadata": {
    "collapsed": false
   },
   "outputs": [],
   "source": [
    "import pandas as pd\n",
    "import numpy as np\n",
    "import matplotlib.pyplot as plt\n",
    "import sympy as sp\n",
    "%matplotlib inline"
   ]
  },
  {
   "cell_type": "markdown",
   "metadata": {},
   "source": [
    "### Function\n",
    "\n",
    "co_ordinates: inputs a n x 2 numpy array where x(n, 1) = X value and x(n, 2) = y value"
   ]
  },
  {
   "cell_type": "code",
   "execution_count": 148,
   "metadata": {
    "collapsed": false
   },
   "outputs": [],
   "source": [
    "class LS(object):\n",
    "    \n",
    "    '''\n",
    "    Input: takes a nx2 numpy array of X and y co-ordinates\n",
    "    Output: returns the least squares value of m and b for y=mx+b\n",
    "    Formula used: A^T.Ax = A^T.b\n",
    "    y = mx + b:\n",
    "    self.eq_m returns the least squares \"m\" value\n",
    "    self.eq_b returns the least squares \"b\" value\n",
    "    '''\n",
    "    \n",
    "    def __init__(self, co_ordinates):\n",
    "        \n",
    "        self.co_ordinates = co_ordinates\n",
    "        self.get_matrices()\n",
    "        self.get_co_ordinates()\n",
    "        \n",
    "    def fit(self):\n",
    "        \n",
    "        # set up the augmented matrix as A^T.A | A^T.b\n",
    "        augm = np.column_stack((np.dot(self.A_transpose, self.A), np.dot(self.A_transpose, self.b)))\n",
    "\n",
    "        # solve for rref\n",
    "        self.rref_ = sp.Matrix(augm).rref()\n",
    "        output = np.array(self.rref_[0])[:, 2]\n",
    "        self.m_ = output[0]\n",
    "        self.b_ = output[1]\n",
    "        \n",
    "        self.performance_metrics()\n",
    "        \n",
    "    def plot_ls(self, xylim=0, x_line_plot_range=100):\n",
    "        \n",
    "        '''\n",
    "        Plots the co-ordinates and also the least squares equation line on a graph\n",
    "        xylim = the size of the graph\n",
    "        x_line_plot_range = length of the least squares line\n",
    "        '''\n",
    "        x_range = np.arange(-x_line_plot_range, x_line_plot_range)\n",
    "        fix, ax = plt.subplots()\n",
    "        ax.spines['left'].set_position('zero')\n",
    "        ax.spines['right'].set_position('zero')\n",
    "        ax.spines['top'].set_position('zero')\n",
    "        ax.spines['bottom'].set_position('zero')\n",
    "        ax.plot(self.X_, self.y_, 'ro', x_range, self.m_*x_range + self.b_, 'b-')\n",
    "        plt.xlim(xylim)\n",
    "        plt.ylim(xylim)\n",
    "        plt.show()\n",
    "        \n",
    "    def plot_points(self, xylim=0):\n",
    "        '''\n",
    "        Plots the co-ordinates on a graph\n",
    "        '''\n",
    "        fig, ax = plt.subplots()\n",
    "        ax.spines['left'].set_position('zero')\n",
    "        ax.spines['right'].set_position('zero')\n",
    "        ax.spines['top'].set_position('zero')\n",
    "        ax.spines['bottom'].set_position('zero')\n",
    "        ax.plot(self.X_, self.y_, 'ro')\n",
    "        ax.set_xlim(xylim)\n",
    "        ax.set_ylim(xylim)\n",
    "        plt.show()\n",
    "        \n",
    "    def get_matrices(self):\n",
    "        \n",
    "        self.A = []\n",
    "        self.b = []\n",
    "        for x, y in zip(self.co_ordinates[:, 0], self.co_ordinates[:, 1]):\n",
    "            self.A += [[x, 1]]\n",
    "            self.b += [[y]]\n",
    "        self.A = np.matrix(self.A)\n",
    "        self.b = np.matrix(self.b)\n",
    "        self.A_transpose = self.A.transpose()\n",
    "\n",
    "    def get_co_ordinates(self):\n",
    "        X, y = zip(*self.co_ordinates)\n",
    "        self.X_ = np.array(X)\n",
    "        self.y_ = np.array(y)\n",
    "        \n",
    "    def performance_metrics(self):\n",
    "        point_x, point_y = zip(*self.co_ordinates)\n",
    "        ls_y = np.dot(np.array(point_x), self.m_) + self.b_\n",
    "        self.sse_ = ((np.array(point_y) - ls_y)**2).sum()\n",
    "        self.sst_ = ((np.array(point_y) - np.array(point_x).mean())**2).sum()\n",
    "        self.rsquared_ = 1 - (self.sse_/self.sst_)"
   ]
  },
  {
   "cell_type": "code",
   "execution_count": 142,
   "metadata": {
    "collapsed": true
   },
   "outputs": [],
   "source": [
    "x1 = np.array([-1, 0])\n",
    "x2 = np.array([0, 1])\n",
    "x3 = np.array([1, 2])\n",
    "x4 = np.array([2, 1])\n",
    "input_array = np.array([x1, x2, x3, x4])"
   ]
  },
  {
   "cell_type": "code",
   "execution_count": 143,
   "metadata": {
    "collapsed": false
   },
   "outputs": [],
   "source": [
    "ls = LS(input_array)"
   ]
  },
  {
   "cell_type": "code",
   "execution_count": 144,
   "metadata": {
    "collapsed": false
   },
   "outputs": [
    {
     "data": {
      "image/png": "[encoded data removed]",
      "text/plain": [
       "<matplotlib.figure.Figure at 0x170bd484048>"
      ]
     },
     "metadata": {},
     "output_type": "display_data"
    }
   ],
   "source": [
    "ls.plot_points((-5,5))"
   ]
  },
  {
   "cell_type": "code",
   "execution_count": 145,
   "metadata": {
    "collapsed": true
   },
   "outputs": [],
   "source": [
    "ls.fit()"
   ]
  },
  {
   "cell_type": "code",
   "execution_count": 146,
   "metadata": {
    "collapsed": false
   },
   "outputs": [
    {
     "data": {
      "image/png": "[encoded data removed]",
      "text/plain": [
       "<matplotlib.figure.Figure at 0x170bd545278>"
      ]
     },
     "metadata": {},
     "output_type": "display_data"
    }
   ],
   "source": [
    "ls.plot_ls((-5,5), 10)"
   ]
  },
  {
   "cell_type": "code",
   "execution_count": 147,
   "metadata": {
    "collapsed": false
   },
   "outputs": [
    {
     "name": "stdout",
     "output_type": "stream",
     "text": [
      "m: 0.400 b: 0.800 SSE: 1.200 SST: 3.000 R2: 0.600\n"
     ]
    }
   ],
   "source": [
    "print(\"m: %.3f b: %.3f SSE: %.3f SST: %.3f R2: %.3f\"%(ls.m_, ls.b_, ls.sse_, ls.sst_, ls.rsquared_))"
   ]
  }
 ],
 "metadata": {
  "anaconda-cloud": {},
  "kernelspec": {
   "display_name": "Python [Root]",
   "language": "python",
   "name": "Python [Root]"
  },
  "language_info": {
   "codemirror_mode": {
    "name": "ipython",
    "version": 3
   },
   "file_extension": ".py",
   "mimetype": "text/x-python",
   "name": "python",
   "nbconvert_exporter": "python",
   "pygments_lexer": "ipython3",
   "version": "3.5.2"
  }
 },
 "nbformat": 4,
 "nbformat_minor": 0
}
